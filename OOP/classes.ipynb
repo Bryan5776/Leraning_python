{
 "cells": [
  {
   "cell_type": "code",
   "execution_count": 4,
   "metadata": {},
   "outputs": [],
   "source": [
    "class Bravais_lattice:\n",
    "    '''here is where we write the help.\n",
    "    this class defines all the structural info for a material'''\n",
    "    def __init__(self,crystal_system, centering):\n",
    "        self.crystal_system= crystal_system\n",
    "        self.centering_type = centering\n",
    "        self.crystal_structure = crystal_system + ' ' + centering\n",
    "        if self.crystal_system == 'cubic':\n",
    "            self.alpha = 90\n",
    "            self.beta = 90\n",
    "            self.gamma = 90\n",
    "def atoms_in_the_unit_cell(self):\n",
    "    if self.crystal_system == 'cubic' and self.centering_type == 'base':\n",
    "        atoms_per_cell = 4\n",
    "        return atoms_per_cell\n",
    "    \n",
    "    \n",
    "\n",
    "\n",
    "#instances\n",
    "Cu = Bravais_lattice('cubic','face')\n",
    "Mg = Bravais_lattice('Hexagonal', 'base')\n",
    "\n",
    "\n",
    "Cu.lattice_parameter = 3.615\n",
    "Cu.color = 'copper'\n",
    "\n",
    "atoms_per_cell =atoms_in_the_unit_cell(Cu)"
   ]
  },
  {
   "cell_type": "code",
   "execution_count": 6,
   "metadata": {},
   "outputs": [
    {
     "name": "stdout",
     "output_type": "stream",
     "text": [
      "Material: Al\n"
     ]
    },
    {
     "ename": "ValueError",
     "evalue": "not enough values to unpack (expected 3, got 0)",
     "output_type": "error",
     "traceback": [
      "\u001b[1;31m---------------------------------------------------------------------------\u001b[0m",
      "\u001b[1;31mValueError\u001b[0m                                Traceback (most recent call last)",
      "Cell \u001b[1;32mIn[6], line 27\u001b[0m\n\u001b[0;32m     25\u001b[0m c \u001b[38;5;241m=\u001b[39m Bravais_Lattice(crystal)\n\u001b[0;32m     26\u001b[0m \u001b[38;5;28mprint\u001b[39m(\u001b[38;5;124mf\u001b[39m\u001b[38;5;124m'\u001b[39m\u001b[38;5;124mMaterial: \u001b[39m\u001b[38;5;132;01m{\u001b[39;00mc\u001b[38;5;241m.\u001b[39mname\u001b[38;5;132;01m}\u001b[39;00m\u001b[38;5;124m'\u001b[39m)\n\u001b[1;32m---> 27\u001b[0m \u001b[43mlattice_params\u001b[49m\u001b[43m(\u001b[49m\u001b[43m)\u001b[49m\n\u001b[0;32m     28\u001b[0m lattice_angles()\n\u001b[0;32m     29\u001b[0m centering()\n",
      "Cell \u001b[1;32mIn[6], line 12\u001b[0m, in \u001b[0;36mlattice_params\u001b[1;34m()\u001b[0m\n\u001b[0;32m     11\u001b[0m \u001b[38;5;28;01mdef\u001b[39;00m \u001b[38;5;21mlattice_params\u001b[39m():\n\u001b[1;32m---> 12\u001b[0m     c\u001b[38;5;241m.\u001b[39ma, c\u001b[38;5;241m.\u001b[39mb, c\u001b[38;5;241m.\u001b[39mc \u001b[38;5;241m=\u001b[39m \u001b[38;5;28minput\u001b[39m(\u001b[38;5;124m'\u001b[39m\u001b[38;5;124mEnter lattice parameters\u001b[39m\u001b[38;5;124m'\u001b[39m)\u001b[38;5;241m.\u001b[39msplit()\n\u001b[0;32m     13\u001b[0m     \u001b[38;5;28;01mreturn\u001b[39;00m c\u001b[38;5;241m.\u001b[39ma, c\u001b[38;5;241m.\u001b[39mb, c\u001b[38;5;241m.\u001b[39mc\n",
      "\u001b[1;31mValueError\u001b[0m: not enough values to unpack (expected 3, got 0)"
     ]
    }
   ],
   "source": [
    "class Bravais_Lattice:\n",
    "  def __init__(self, name):\n",
    "    self.name = name\n",
    "\n",
    "crystal_list = ['Al', 'Cu','W']\n",
    "\n",
    "def centering():\n",
    "    c.centering = input('Is there simple (s), body (b), base (c), or face centering (f)? (s/b/c/f):')\n",
    "    return c.centering\n",
    "\n",
    "def lattice_params():\n",
    "    c.a, c.b, c.c = input('Enter lattice parameters').split()\n",
    "    return c.a, c.b, c.c\n",
    "\n",
    "def lattice_angles():\n",
    "    c.alpha, c.beta, c.gamma = input('Enter lattice angles').split()\n",
    "    c.alpha = int(c.alpha)\n",
    "    c.beta = int(c.beta)\n",
    "    c.gamma = int(c.gamma)\n",
    "    return c.alpha, c.beta, c.gamma\n",
    "\n",
    "crystals={}\n",
    "\n",
    "for crystal in crystal_list:\n",
    "    c = Bravais_Lattice(crystal)\n",
    "    print(f'Material: {c.name}')\n",
    "    lattice_params()\n",
    "    lattice_angles()\n",
    "    centering()\n",
    "    \n",
    "    if (c.a == c.b and c.a == c.c and c.alpha == 90):\n",
    "        c.crystal_system = 'cubic'\n",
    "    elif (c.a == c.b and c.a == c.c and c.alpha != 90):\n",
    "        c.crystal_system = 'trigonal'\n",
    "    elif (c.a == c.b and c.a != c.c) or (c.b == c.c and c.a != c.c):\n",
    "        if c.alpha == c.beta and c.alpha == c.gamma:\n",
    "            c.crystal_system = 'tetragonal'\n",
    "        else:\n",
    "            c.crystal_system = 'hexagonal'\n",
    "    elif c.a != c.b and c.a != c.c and c.b != c.c:\n",
    "        if c.alpha == c.beta and c.alpha == c.gamma and c.alpha == 90:\n",
    "             c.crystal_system = 'orthorhombic'\n",
    "        elif c.alpha != c.beta and c.alpha != c.gamma and c.beta != c.gamma:\n",
    "            c.crystal_system = 'triclinic'\n",
    "        else:\n",
    "            c.crystal_system = 'monoclinic'\n",
    "    if c.centering == 's':\n",
    "        c.bravais = f'Simple {c.crystal_system} bravais lattice'\n",
    "    elif c.centering == 'b':\n",
    "        c.bravais = f'Body-centered {c.crystal_system} bravais lattice'\n",
    "    elif c.centering == 'f':\n",
    "        c.bravais = f'Face-centered {c.crystal_system} bravais lattice'\n",
    "    elif c.centering == 'c':\n",
    "        c.bravais = f'Base-centered {c.crystal_system} bravais lattice'\n",
    "    crystals[c.name] = c\n",
    "\n",
    "for name in crystal_list:\n",
    "    print(crystals[name].bravais)"
   ]
  },
  {
   "cell_type": "code",
   "execution_count": null,
   "metadata": {},
   "outputs": [],
   "source": []
  }
 ],
 "metadata": {
  "kernelspec": {
   "display_name": "Python 3",
   "language": "python",
   "name": "python3"
  },
  "language_info": {
   "codemirror_mode": {
    "name": "ipython",
    "version": 3
   },
   "file_extension": ".py",
   "mimetype": "text/x-python",
   "name": "python",
   "nbconvert_exporter": "python",
   "pygments_lexer": "ipython3",
   "version": "3.12.0"
  }
 },
 "nbformat": 4,
 "nbformat_minor": 2
}
