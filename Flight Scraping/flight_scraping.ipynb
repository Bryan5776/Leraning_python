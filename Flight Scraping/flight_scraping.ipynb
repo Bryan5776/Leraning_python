{
 "cells": [
  {
   "cell_type": "code",
   "execution_count": 46,
   "metadata": {},
   "outputs": [],
   "source": [
    "from time import sleep\n",
    "import pandas as pd\n",
    "from selenium import webdriver\n",
    "from selenium.webdriver.common.by import By\n",
    "from bs4 import BeautifulSoup\n",
    "import os"
   ]
  },
  {
   "cell_type": "code",
   "execution_count": 47,
   "metadata": {},
   "outputs": [],
   "source": [
    "driver = webdriver.Chrome()\n",
    "From = 'ALB'\n",
    "To= 'BQN'\n",
    "url = 'https://www.kayak.com/flights/{From}-{To}/2024-08-01/2024-08-11?sort=bestflight_a'.format(From=From,To=To)\n",
    "driver.get(url)\n",
    "sleep(7)"
   ]
  },
  {
   "cell_type": "code",
   "execution_count": 48,
   "metadata": {},
   "outputs": [
    {
     "name": "stdout",
     "output_type": "stream",
     "text": [
      "[<selenium.webdriver.remote.webelement.WebElement (session=\"134f231d23e11853b37db4c5c55c1157\", element=\"f.7CED5DB8921AA86589DC76145E97B58D.d.2EF6B523A4E3C729AED18B1421245646.e.92\")>, <selenium.webdriver.remote.webelement.WebElement (session=\"134f231d23e11853b37db4c5c55c1157\", element=\"f.7CED5DB8921AA86589DC76145E97B58D.d.2EF6B523A4E3C729AED18B1421245646.e.93\")>, <selenium.webdriver.remote.webelement.WebElement (session=\"134f231d23e11853b37db4c5c55c1157\", element=\"f.7CED5DB8921AA86589DC76145E97B58D.d.2EF6B523A4E3C729AED18B1421245646.e.94\")>]\n"
     ]
    }
   ],
   "source": [
    "#flight_rows = driver.find_element_by_xp('//div[@class=\"nrc6-inner\"]')\n",
    "flight_rows = driver.find_elements(By.XPATH,'//div[@class=\"nrc6-inner\"]')\n",
    "print(flight_rows)"
   ]
  },
  {
   "cell_type": "code",
   "execution_count": 49,
   "metadata": {},
   "outputs": [
    {
     "name": "stdout",
     "output_type": "stream",
     "text": [
      "['$1,658', '$1,288', '$1,426']\n"
     ]
    }
   ],
   "source": [
    "list_of_prices = []\n",
    "\n",
    "for WebElement in flight_rows:\n",
    "    elementHTML = WebElement.get_attribute('outerHTML')\n",
    "    elementsoup = BeautifulSoup(elementHTML,'html.parser')\n",
    "\n",
    "    #price\n",
    "    temp_price = elementsoup.find(\"div\",{\"class\":\"nrc6-price-section\"})\n",
    "    price= temp_price.find(\"div\",{\"class\":\"f8F1-price-text\"})\n",
    "    list_of_prices.append(price.text)\n",
    "print(list_of_prices)"
   ]
  }
 ],
 "metadata": {
  "kernelspec": {
   "display_name": "Python 3",
   "language": "python",
   "name": "python3"
  },
  "language_info": {
   "codemirror_mode": {
    "name": "ipython",
    "version": 3
   },
   "file_extension": ".py",
   "mimetype": "text/x-python",
   "name": "python",
   "nbconvert_exporter": "python",
   "pygments_lexer": "ipython3",
   "version": "3.12.0"
  }
 },
 "nbformat": 4,
 "nbformat_minor": 2
}
